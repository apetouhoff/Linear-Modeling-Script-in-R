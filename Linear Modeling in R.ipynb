{
 "cells": [
  {
   "cell_type": "markdown",
   "id": "29daf778-08df-4286-98db-8f61b86f2bd1",
   "metadata": {},
   "source": [
    "# Linear Modeling in R "
   ]
  },
  {
   "cell_type": "code",
   "execution_count": 1,
   "id": "49f6f506-16c5-49b3-bedb-b95d55f87f84",
   "metadata": {},
   "outputs": [],
   "source": [
    "df = read.csv(\"regrex1.csv\")"
   ]
  },
  {
   "cell_type": "code",
   "execution_count": 2,
   "id": "47ce58b1-e11a-454f-a588-a60de4300b25",
   "metadata": {},
   "outputs": [
    {
     "data": {
      "text/html": [
       "<table class=\"dataframe\">\n",
       "<caption>A data.frame: 6 × 2</caption>\n",
       "<thead>\n",
       "\t<tr><th></th><th scope=col>y</th><th scope=col>x</th></tr>\n",
       "\t<tr><th></th><th scope=col>&lt;dbl&gt;</th><th scope=col>&lt;dbl&gt;</th></tr>\n",
       "</thead>\n",
       "<tbody>\n",
       "\t<tr><th scope=row>1</th><td>6.8102</td><td> 9.8492</td></tr>\n",
       "\t<tr><th scope=row>2</th><td>9.8437</td><td>11.1450</td></tr>\n",
       "\t<tr><th scope=row>3</th><td>4.9767</td><td> 5.1209</td></tr>\n",
       "\t<tr><th scope=row>4</th><td>5.0006</td><td> 8.1085</td></tr>\n",
       "\t<tr><th scope=row>5</th><td>3.5047</td><td> 3.5599</td></tr>\n",
       "\t<tr><th scope=row>6</th><td>3.6419</td><td> 1.9883</td></tr>\n",
       "</tbody>\n",
       "</table>\n"
      ],
      "text/latex": [
       "A data.frame: 6 × 2\n",
       "\\begin{tabular}{r|ll}\n",
       "  & y & x\\\\\n",
       "  & <dbl> & <dbl>\\\\\n",
       "\\hline\n",
       "\t1 & 6.8102 &  9.8492\\\\\n",
       "\t2 & 9.8437 & 11.1450\\\\\n",
       "\t3 & 4.9767 &  5.1209\\\\\n",
       "\t4 & 5.0006 &  8.1085\\\\\n",
       "\t5 & 3.5047 &  3.5599\\\\\n",
       "\t6 & 3.6419 &  1.9883\\\\\n",
       "\\end{tabular}\n"
      ],
      "text/markdown": [
       "\n",
       "A data.frame: 6 × 2\n",
       "\n",
       "| <!--/--> | y &lt;dbl&gt; | x &lt;dbl&gt; |\n",
       "|---|---|---|\n",
       "| 1 | 6.8102 |  9.8492 |\n",
       "| 2 | 9.8437 | 11.1450 |\n",
       "| 3 | 4.9767 |  5.1209 |\n",
       "| 4 | 5.0006 |  8.1085 |\n",
       "| 5 | 3.5047 |  3.5599 |\n",
       "| 6 | 3.6419 |  1.9883 |\n",
       "\n"
      ],
      "text/plain": [
       "  y      x      \n",
       "1 6.8102  9.8492\n",
       "2 9.8437 11.1450\n",
       "3 4.9767  5.1209\n",
       "4 5.0006  8.1085\n",
       "5 3.5047  3.5599\n",
       "6 3.6419  1.9883"
      ]
     },
     "metadata": {},
     "output_type": "display_data"
    }
   ],
   "source": [
    "head(df)"
   ]
  },
  {
   "cell_type": "code",
   "execution_count": 5,
   "id": "4a2d19d0-7ba7-405c-a2da-ccfd92d62f34",
   "metadata": {},
   "outputs": [
    {
     "data": {
      "image/png": "[encoded data removed]",
      "text/plain": [
       "plot without title"
      ]
     },
     "metadata": {
      "image/png": {
       "height": 420,
       "width": 420
      }
     },
     "output_type": "display_data"
    }
   ],
   "source": [
    "plot(df$x, df$y)"
   ]
  },
  {
   "cell_type": "code",
   "execution_count": 6,
   "id": "e863849e-dea3-4b58-b71e-2b89d7b20c8e",
   "metadata": {},
   "outputs": [],
   "source": [
    "model <- lm(df$y ~ df$x, data = df)"
   ]
  },
  {
   "cell_type": "code",
   "execution_count": 8,
   "id": "9a8fa068-8df3-4264-a92a-c5737ae3e81f",
   "metadata": {},
   "outputs": [],
   "source": [
    "summary_model = summary(model)"
   ]
  },
  {
   "cell_type": "code",
   "execution_count": 9,
   "id": "e0a2d457-239b-4ec3-8d94-95e05fe23cae",
   "metadata": {},
   "outputs": [
    {
     "data": {
      "text/plain": [
       "\n",
       "Call:\n",
       "lm(formula = df$y ~ df$x, data = df)\n",
       "\n",
       "Residuals:\n",
       "     Min       1Q   Median       3Q      Max \n",
       "-1.66121 -0.53286 -0.02869  0.50436  2.36786 \n",
       "\n",
       "Coefficients:\n",
       "            Estimate Std. Error t value Pr(>|t|)    \n",
       "(Intercept)  2.24814    0.29365   7.656 2.44e-08 ***\n",
       "df$x         0.46906    0.02444  19.194  < 2e-16 ***\n",
       "---\n",
       "Signif. codes:  0 ‘***’ 0.001 ‘**’ 0.01 ‘*’ 0.05 ‘.’ 0.1 ‘ ’ 1\n",
       "\n",
       "Residual standard error: 0.8779 on 28 degrees of freedom\n",
       "Multiple R-squared:  0.9294,\tAdjusted R-squared:  0.9268 \n",
       "F-statistic: 368.4 on 1 and 28 DF,  p-value: < 2.2e-16\n"
      ]
     },
     "metadata": {},
     "output_type": "display_data"
    }
   ],
   "source": [
    "summary_model"
   ]
  },
  {
   "cell_type": "code",
   "execution_count": 11,
   "id": "5170998a-cd61-4f58-9720-e0cd9671979e",
   "metadata": {},
   "outputs": [
    {
     "data": {
      "text/html": [
       "0.929364155128174"
      ],
      "text/latex": [
       "0.929364155128174"
      ],
      "text/markdown": [
       "0.929364155128174"
      ],
      "text/plain": [
       "[1] 0.9293642"
      ]
     },
     "metadata": {},
     "output_type": "display_data"
    }
   ],
   "source": [
    "summary_model$r.squared"
   ]
  },
  {
   "cell_type": "code",
   "execution_count": 12,
   "id": "c6fc3dd2-0935-4bcf-ad99-592525c34604",
   "metadata": {},
   "outputs": [
    {
     "data": {
      "text/html": [
       "<style>\n",
       ".dl-inline {width: auto; margin:0; padding: 0}\n",
       ".dl-inline>dt, .dl-inline>dd {float: none; width: auto; display: inline-block}\n",
       ".dl-inline>dt::after {content: \":\\0020\"; padding-right: .5ex}\n",
       ".dl-inline>dt:not(:first-of-type) {padding-left: .5ex}\n",
       "</style><dl class=dl-inline><dt>(Intercept)</dt><dd>2.248142773667</dd><dt>df$x</dt><dd>0.469062282751859</dd></dl>\n"
      ],
      "text/latex": [
       "\\begin{description*}\n",
       "\\item[(Intercept)] 2.248142773667\n",
       "\\item[df\\textbackslash{}\\$x] 0.469062282751859\n",
       "\\end{description*}\n"
      ],
      "text/markdown": [
       "(Intercept)\n",
       ":   2.248142773667df$x\n",
       ":   0.469062282751859\n",
       "\n"
      ],
      "text/plain": [
       "(Intercept)        df$x \n",
       "  2.2481428   0.4690623 "
      ]
     },
     "metadata": {},
     "output_type": "display_data"
    }
   ],
   "source": [
    "coef(model)"
   ]
  },
  {
   "cell_type": "code",
   "execution_count": 13,
   "id": "9ce4b5e5-f21c-4448-9107-18b9f8475d37",
   "metadata": {},
   "outputs": [
    {
     "data": {
      "text/html": [
       "<strong>(Intercept):</strong> 2.248142773667"
      ],
      "text/latex": [
       "\\textbf{(Intercept):} 2.248142773667"
      ],
      "text/markdown": [
       "**(Intercept):** 2.248142773667"
      ],
      "text/plain": [
       "(Intercept) \n",
       "   2.248143 "
      ]
     },
     "metadata": {},
     "output_type": "display_data"
    }
   ],
   "source": [
    "coef(model)[1]"
   ]
  },
  {
   "cell_type": "code",
   "execution_count": 14,
   "id": "357399c0-3ce8-40de-a932-8a485113c873",
   "metadata": {},
   "outputs": [
    {
     "data": {
      "text/html": [
       "<strong>df$x:</strong> 0.469062282751859"
      ],
      "text/latex": [
       "\\textbf{df\\textbackslash{}\\$x:} 0.469062282751859"
      ],
      "text/markdown": [
       "**df$x:** 0.469062282751859"
      ],
      "text/plain": [
       "     df$x \n",
       "0.4690623 "
      ]
     },
     "metadata": {},
     "output_type": "display_data"
    }
   ],
   "source": [
    "coef(model)[2]"
   ]
  },
  {
   "cell_type": "code",
   "execution_count": 15,
   "id": "f9f50c84-79b6-4758-9795-a1575941e93d",
   "metadata": {},
   "outputs": [],
   "source": [
    "y_pred = predict(model, df)"
   ]
  },
  {
   "cell_type": "code",
   "execution_count": 16,
   "id": "d062f956-7355-41df-b9ce-d8be2c9cd868",
   "metadata": {},
   "outputs": [
    {
     "data": {
      "text/html": [
       "<style>\n",
       ".dl-inline {width: auto; margin:0; padding: 0}\n",
       ".dl-inline>dt, .dl-inline>dd {float: none; width: auto; display: inline-block}\n",
       ".dl-inline>dt::after {content: \":\\0020\"; padding-right: .5ex}\n",
       ".dl-inline>dt:not(:first-of-type) {padding-left: .5ex}\n",
       "</style><dl class=dl-inline><dt>1</dt><dd>6.8680310089466</dd><dt>2</dt><dd>7.47584191493646</dd><dt>3</dt><dd>4.65016381741099</dd><dt>4</dt><dd>6.05153429336044</dd><dt>5</dt><dd>3.91795759403534</dd><dt>6</dt><dd>3.18077931046252</dd><dt>7</dt><dd>9.53371196182541</dd><dt>8</dt><dd>5.77558495241752</dd><dt>9</dt><dd>8.82448979030461</dd><dt>10</dt><dd>5.77671070189613</dd><dt>11</dt><dd>8.96849191110942</dd><dt>12</dt><dd>4.07514036498548</dd><dt>13</dt><dd>3.1256175860109</dd><dt>14</dt><dd>2.63966906107997</dd><dt>15</dt><dd>10.8513548203037</dd><dt>16</dt><dd>3.02889694330746</dd><dt>17</dt><dd>10.2493602866199</dd><dt>18</dt><dd>6.58110561058729</dd><dt>19</dt><dd>12.098450711456</dd><dt>20</dt><dd>3.9032759445852</dd><dt>21</dt><dd>13.9746998424635</dd><dt>22</dt><dd>6.8922346227366</dd><dt>23</dt><dd>10.503169887817</dd><dt>24</dt><dd>8.75825819598004</dd><dt>25</dt><dd>7.34638072489695</dd><dt>26</dt><dd>8.16949121866991</dd><dt>27</dt><dd>2.70402440627353</dd><dt>28</dt><dd>9.04082131510976</dd><dt>29</dt><dd>3.27032330023985</dd><dt>30</dt><dd>10.8813279001715</dd></dl>\n"
      ],
      "text/latex": [
       "\\begin{description*}\n",
       "\\item[1] 6.8680310089466\n",
       "\\item[2] 7.47584191493646\n",
       "\\item[3] 4.65016381741099\n",
       "\\item[4] 6.05153429336044\n",
       "\\item[5] 3.91795759403534\n",
       "\\item[6] 3.18077931046252\n",
       "\\item[7] 9.53371196182541\n",
       "\\item[8] 5.77558495241752\n",
       "\\item[9] 8.82448979030461\n",
       "\\item[10] 5.77671070189613\n",
       "\\item[11] 8.96849191110942\n",
       "\\item[12] 4.07514036498548\n",
       "\\item[13] 3.1256175860109\n",
       "\\item[14] 2.63966906107997\n",
       "\\item[15] 10.8513548203037\n",
       "\\item[16] 3.02889694330746\n",
       "\\item[17] 10.2493602866199\n",
       "\\item[18] 6.58110561058729\n",
       "\\item[19] 12.098450711456\n",
       "\\item[20] 3.9032759445852\n",
       "\\item[21] 13.9746998424635\n",
       "\\item[22] 6.8922346227366\n",
       "\\item[23] 10.503169887817\n",
       "\\item[24] 8.75825819598004\n",
       "\\item[25] 7.34638072489695\n",
       "\\item[26] 8.16949121866991\n",
       "\\item[27] 2.70402440627353\n",
       "\\item[28] 9.04082131510976\n",
       "\\item[29] 3.27032330023985\n",
       "\\item[30] 10.8813279001715\n",
       "\\end{description*}\n"
      ],
      "text/markdown": [
       "1\n",
       ":   6.86803100894662\n",
       ":   7.475841914936463\n",
       ":   4.650163817410994\n",
       ":   6.051534293360445\n",
       ":   3.917957594035346\n",
       ":   3.180779310462527\n",
       ":   9.533711961825418\n",
       ":   5.775584952417529\n",
       ":   8.8244897903046110\n",
       ":   5.7767107018961311\n",
       ":   8.9684919111094212\n",
       ":   4.0751403649854813\n",
       ":   3.125617586010914\n",
       ":   2.6396690610799715\n",
       ":   10.851354820303716\n",
       ":   3.0288969433074617\n",
       ":   10.249360286619918\n",
       ":   6.5811056105872919\n",
       ":   12.09845071145620\n",
       ":   3.903275944585221\n",
       ":   13.974699842463522\n",
       ":   6.892234622736623\n",
       ":   10.50316988781724\n",
       ":   8.7582581959800425\n",
       ":   7.3463807248969526\n",
       ":   8.1694912186699127\n",
       ":   2.7040244062735328\n",
       ":   9.0408213151097629\n",
       ":   3.2703233002398530\n",
       ":   10.8813279001715\n",
       "\n"
      ],
      "text/plain": [
       "        1         2         3         4         5         6         7         8 \n",
       " 6.868031  7.475842  4.650164  6.051534  3.917958  3.180779  9.533712  5.775585 \n",
       "        9        10        11        12        13        14        15        16 \n",
       " 8.824490  5.776711  8.968492  4.075140  3.125618  2.639669 10.851355  3.028897 \n",
       "       17        18        19        20        21        22        23        24 \n",
       "10.249360  6.581106 12.098451  3.903276 13.974700  6.892235 10.503170  8.758258 \n",
       "       25        26        27        28        29        30 \n",
       " 7.346381  8.169491  2.704024  9.040821  3.270323 10.881328 "
      ]
     },
     "metadata": {},
     "output_type": "display_data"
    }
   ],
   "source": [
    "y_pred"
   ]
  },
  {
   "cell_type": "code",
   "execution_count": 22,
   "id": "8914e1e6-4d5e-4972-bacc-d5d465d938a0",
   "metadata": {},
   "outputs": [
    {
     "data": {
      "image/png": "[encoded data removed]",
      "text/plain": [
       "plot without title"
      ]
     },
     "metadata": {
      "image/png": {
       "height": 420,
       "width": 420
      }
     },
     "output_type": "display_data"
    }
   ],
   "source": [
    "plot(df$x, y_pred, type=\"l\", xlab=\"x\", ylab=\"y\")"
   ]
  },
  {
   "cell_type": "code",
   "execution_count": 20,
   "id": "1fc5e235-6a03-4689-96b1-38a25cb26449",
   "metadata": {},
   "outputs": [
    {
     "data": {
      "image/png": "[encoded data removed]",
      "text/plain": [
       "plot without title"
      ]
     },
     "metadata": {
      "image/png": {
       "height": 420,
       "width": 420
      }
     },
     "output_type": "display_data"
    }
   ],
   "source": [
    "plot(df$x, df$y, xlab=\"x\",ylab=\"y\")\n",
    "lines(df$x,y_pred)"
   ]
  },
  {
   "cell_type": "code",
   "execution_count": null,
   "id": "95a434e3-1806-48f6-a6b9-d4725141124e",
   "metadata": {},
   "outputs": [],
   "source": []
  }
 ],
 "metadata": {
  "kernelspec": {
   "display_name": "R",
   "language": "R",
   "name": "ir"
  },
  "language_info": {
   "codemirror_mode": "r",
   "file_extension": ".r",
   "mimetype": "text/x-r-source",
   "name": "R",
   "pygments_lexer": "r",
   "version": "4.0.5"
  }
 },
 "nbformat": 4,
 "nbformat_minor": 5
}
